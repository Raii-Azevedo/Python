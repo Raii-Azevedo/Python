{
 "cells": [
  {
   "cell_type": "markdown",
   "metadata": {},
   "source": [
    "CORES NO TERMINAL\n",
    "Módulo exemplificando como inserir cores no seu script. Facilitando a\n",
    "identificação no código.\n",
    "ANSI – Escape Sequence\n",
    "Código 033 - \\033[m(código da cor)\n",
    "> Primeiro defina o estilo (style).\n",
    "1o Style – 0 – 1 – 4 – 7.\n",
    "0 – None\n",
    "1 – Bold {negrito}\n",
    "\n",
    "> Depois defina a cor do texto.\n",
    "2o Text – Underline (Sublinhado)\n",
    "30 (branco)\n",
    "31 (vermelho)\n",
    "32 (verde)\n",
    "33 (amarelo)\n",
    "34 (azul)\n",
    "35 (roxo)\n",
    "36 (azul claro)\n",
    "37 (Cinza).\n",
    "\n",
    "> Depois defina\n",
    "3o Back - Negative (Inverter cor)\n",
    "> \\033[0;33;44m\n",
    "\n",
    "> COMO CRIAR O CÓDIGO\n",
    "\n",
    "Fundo Vermelho – letra branca - \\033[0;30;41m\n",
    "Fundo azul - letra amarela - \\033[4;33;44m\n",
    "Fundo amarelo - letra roxa - \\033[1;35;43m\n",
    "Fundo verde - letra branca - \\033[30;42m\n",
    "Fundo preto – letra cinza – \\033[m (código padrão)\n",
    "Fundo branco – letra preta - \\033[7,30m (código de inversão ‘7’)\n",
    "\n",
    "OBS: Pesquisar sobre o módulo COLORIZE!"
   ]
  },
  {
   "cell_type": "code",
   "execution_count": 4,
   "metadata": {},
   "outputs": [
    {
     "name": "stdout",
     "output_type": "stream",
     "text": [
      "O valor digitado é \u001b[7;31m56\u001b[m\n"
     ]
    }
   ],
   "source": [
    "# FORMA 1\n",
    "a= int (input ('Digite um número:'))\n",
    "print ('O valor digitado é \\033[7;31m{}\\033[m'.format(a))"
   ]
  },
  {
   "cell_type": "code",
   "execution_count": 3,
   "metadata": {},
   "outputs": [
    {
     "name": "stdout",
     "output_type": "stream",
     "text": [
      "Prazer em te conhecer \u001b[4;36mRaissa\u001b[m!!!\n"
     ]
    }
   ],
   "source": [
    "# FORMA 2\n",
    "nome= 'Raissa'\n",
    "print ('Prazer em te conhecer {}{}{}!!!'.format('\\033[4;36m',nome,'\\033[m'))"
   ]
  },
  {
   "cell_type": "code",
   "execution_count": 2,
   "metadata": {},
   "outputs": [
    {
     "name": "stdout",
     "output_type": "stream",
     "text": [
      "Prazer em te conhecer \u001b[7;30mRaissa\u001b[m!!!\n"
     ]
    }
   ],
   "source": [
    "# FORMA 3\n",
    "nome= 'Raissa'\n",
    "cores= {\n",
    "    'limpa':'\\033[m',\n",
    "    'azul':'\\033[34m',\n",
    "    'amarelo':'\\033[33m',\n",
    "    'pretoebranco':'\\033[7;30m'}\n",
    "\n",
    "print ('Prazer em te conhecer {}{}{}!!!'.format(\n",
    "    cores['pretoebranco'],\n",
    "    nome,\n",
    "    cores['limpa']))"
   ]
  }
 ],
 "metadata": {
  "kernelspec": {
   "display_name": "Python 3",
   "language": "python",
   "name": "python3"
  },
  "language_info": {
   "codemirror_mode": {
    "name": "ipython",
    "version": 3
   },
   "file_extension": ".py",
   "mimetype": "text/x-python",
   "name": "python",
   "nbconvert_exporter": "python",
   "pygments_lexer": "ipython3",
   "version": "3.10.11"
  }
 },
 "nbformat": 4,
 "nbformat_minor": 2
}
