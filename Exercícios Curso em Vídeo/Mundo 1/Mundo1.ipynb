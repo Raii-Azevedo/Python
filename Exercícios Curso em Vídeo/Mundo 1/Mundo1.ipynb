{
 "cells": [
  {
   "cell_type": "markdown",
   "metadata": {},
   "source": [
    "1. Crie um programa que escreva “Olá, Mundo” na tela "
   ]
  },
  {
   "cell_type": "code",
   "execution_count": null,
   "metadata": {},
   "outputs": [],
   "source": [
    "print('Olá, Mundo!')"
   ]
  },
  {
   "cell_type": "markdown",
   "metadata": {},
   "source": [
    "2. Faça um programa que leia o nome de uma pessoa e mostre uma mensagem de\n",
    "boas vindas."
   ]
  },
  {
   "cell_type": "code",
   "execution_count": null,
   "metadata": {},
   "outputs": [],
   "source": [
    "nome = input('Digite seu nome: ')\n",
    "print(f'Olá, {nome}')"
   ]
  },
  {
   "cell_type": "markdown",
   "metadata": {},
   "source": [
    "3. Crie um programa que leia dois números e mostre a soma entre eles "
   ]
  },
  {
   "cell_type": "code",
   "execution_count": null,
   "metadata": {},
   "outputs": [],
   "source": [
    "n1 = int(input('Numero 1: '))\n",
    "n2 = int(input('Numero 2: '))\n",
    "\n",
    "soma = n1 + n2\n",
    "\n",
    "print(f'{n1} + {n2} = {soma}')"
   ]
  },
  {
   "cell_type": "markdown",
   "metadata": {},
   "source": [
    "4. Faça um programa que leia algo pelo teclado e mostre na tela o seu tipo primitivo e\n",
    "todas a s informações possíveis sobre ele"
   ]
  },
  {
   "cell_type": "code",
   "execution_count": null,
   "metadata": {},
   "outputs": [],
   "source": [
    "frase = input('Digite algo: ')\n",
    "\n",
    "resultado = f'É numérico? {frase.isnumeric()}\\n' \\\n",
    "            f'É um dígito? {frase.isdigit()}\\n' \\\n",
    "            f'É um decimal? {frase.isdecimal()}\\n' \\\n",
    "            f'É alfabético? {frase.isalpha()}\\n' \\\n",
    "            f'É alfanumérico? {frase.isalnum()}\\n' \\\n",
    "            f'Está em minúsculas? {frase.islower()}\\n' \\\n",
    "            f'Está em maiúsculas? {frase.isupper()}\\n' \\\n",
    "            f'Só contém espaços em branco? {frase.isspace()}\\n'\n",
    "\n",
    "print(resultado)"
   ]
  },
  {
   "cell_type": "markdown",
   "metadata": {},
   "source": [
    "5.  faça um programa que leia um número inteiro e mostre na tela o seu sucessor e\n",
    "seu antecessor "
   ]
  },
  {
   "cell_type": "code",
   "execution_count": null,
   "metadata": {},
   "outputs": [],
   "source": [
    "N = int(input('Digite um número: '))\n",
    "\n",
    "print(f'Digitado: {N}\\nAntecessor: {N-1}\\nSucessor: {N+1}')"
   ]
  },
  {
   "cell_type": "markdown",
   "metadata": {},
   "source": [
    "6.   Crie   um   algoritmo   que   leia   um   número   e   mostre   o   seu   dobro,   triplo   e   raiz quadrada "
   ]
  },
  {
   "cell_type": "code",
   "execution_count": null,
   "metadata": {},
   "outputs": [],
   "source": [
    "N = int(input('Digite um número: '))\n",
    "dobro = N * 2\n",
    "triplo = N * 3\n",
    "raiz = N ** (1/2)\n",
    "\n",
    "print(f'''Dobro: {dobro} \n",
    "Triplo: {triplo}\n",
    "Raiz quadrada: {raiz}''')"
   ]
  },
  {
   "cell_type": "markdown",
   "metadata": {},
   "source": [
    "7. Desenvolva um programa que leia as duas notas de um aluno, calcule e mostre a\n",
    "sua média "
   ]
  },
  {
   "cell_type": "code",
   "execution_count": null,
   "metadata": {},
   "outputs": [],
   "source": [
    "nota1 = float(input('Nota 1: '))\n",
    "nota2 = float(input('Nota 2: '))\n",
    "\n",
    "media = (nota1 + nota2)/2\n",
    "\n",
    "print(f'A média de {nota1} + {nota2} = {media}')"
   ]
  },
  {
   "cell_type": "markdown",
   "metadata": {},
   "source": [
    "8. Escreva um programa que leia um valor em metros e o exiba convertido em centímetros e milímetros "
   ]
  },
  {
   "cell_type": "code",
   "execution_count": null,
   "metadata": {},
   "outputs": [],
   "source": [
    "m = int(input('Digite uma valor em m²: '))\n",
    "\n",
    "cm = m * 100\n",
    "mm = m * 1000\n",
    "\n",
    "print(f'{m}m² equivale a {cm}Cm e {mm}Mm ')"
   ]
  },
  {
   "cell_type": "markdown",
   "metadata": {},
   "source": [
    "9. Faça um programa que leia um número Inteiro qualquer e mostre na tela a sua tabuada"
   ]
  },
  {
   "cell_type": "code",
   "execution_count": null,
   "metadata": {},
   "outputs": [],
   "source": [
    "n = int(input('Digite um número: '))\n",
    "\n",
    "for i in range(11):\n",
    "    print(f'{n} x {i} = {i*n}')"
   ]
  },
  {
   "cell_type": "markdown",
   "metadata": {},
   "source": [
    "10. Crie um programa que leia quanto dinheiro uma pessoa tem na carteira e mostre quantos dólares ela pode comprar Considere US$ 1,00 = R$ 3,27"
   ]
  },
  {
   "cell_type": "code",
   "execution_count": null,
   "metadata": {},
   "outputs": [],
   "source": [
    "r = float(input('Digite um valor R$: '))\n",
    "d = r * 3.27\n",
    "\n",
    "print(f'RS {r:.2f} equivale a U$ {d:.2f}')"
   ]
  },
  {
   "cell_type": "markdown",
   "metadata": {},
   "source": [
    "11. Faça um programa que leia a largura e altura de uma parede em metros, calcule a sua área e a quantidade de tintas necessárias para pintá­la, sabendo que cada litro de tinta, pinta uma área de 2m²"
   ]
  },
  {
   "cell_type": "code",
   "execution_count": null,
   "metadata": {},
   "outputs": [],
   "source": [
    "L = float(input('Digite a largura: '))\n",
    "H = float(input('Digite a altura: '))\n",
    "\n",
    "T = (L * H) / 2\n",
    "\n",
    "print(f'São necessários {T} L de tinta para pintar uma parede de {L} x {H} que equivalem a {L*H}m²')"
   ]
  },
  {
   "cell_type": "markdown",
   "metadata": {},
   "source": [
    "12.  Faça um algoritmo que leia o preço de um produto e mostre seu novo preço, com 5% de desconto"
   ]
  },
  {
   "cell_type": "code",
   "execution_count": null,
   "metadata": {},
   "outputs": [],
   "source": [
    "preco = float(input('Digit eo preço do produto R$: '))\n",
    "desconto = preco - (preco*5)/100\n",
    "\n",
    "print(f'O produto custa R$ {preco:.2f} com 5% de desconto custará R$ {desconto:.2f}')"
   ]
  },
  {
   "cell_type": "markdown",
   "metadata": {},
   "source": [
    "13.  Faça um algoritmo que leia o salário de uma funcionário e mostre seu novo salário, com 15% de aumento"
   ]
  },
  {
   "cell_type": "code",
   "execution_count": null,
   "metadata": {},
   "outputs": [],
   "source": [
    "S = float(input('Digite o salário R$: '))\n",
    "A = S + (S*15)/100\n",
    "\n",
    "print(f'Salário R$ {S:.2f} com 15% de aumento passa a ser R$ {A:.2f}')"
   ]
  },
  {
   "cell_type": "markdown",
   "metadata": {},
   "source": [
    "14. Escreva um programa que converta um a temperatura digitada em ºC e converta para ºF"
   ]
  },
  {
   "cell_type": "code",
   "execution_count": null,
   "metadata": {},
   "outputs": [],
   "source": [
    "C = int(input('Digite a temperatura °C: '))\n",
    "F = (C * 9/5) + 32\n",
    "\n",
    "print(f'{C}°C = {F}°F')"
   ]
  },
  {
   "cell_type": "markdown",
   "metadata": {},
   "source": [
    "15. Escreva um programa que pergunte a quantidade de Km percorridos por um carro alugado e a quantidade de dias pelos quais ele foi alugado. Calcule o preço a pagar, sabendo que o carro custa R$ 60 por dia e R$ 0,15 por Km rodado."
   ]
  },
  {
   "cell_type": "code",
   "execution_count": null,
   "metadata": {},
   "outputs": [],
   "source": [
    "km = int(input('Digite a quantidade de Km percorridos: '))\n",
    "d = int(input('Digite a quantidade de dias alugados: '))\n",
    "\n",
    "preco = (60*d) + (km*0.15)\n",
    "\n",
    "print(f'O valor a pagar por um carro que rodou {km} Km em {d} dias é R$ {preco:.2f}')"
   ]
  },
  {
   "cell_type": "markdown",
   "metadata": {},
   "source": [
    "16. Crie um programa que leia um número Real qualquer pelo teclado e mostre na tela a sua porção Inteira. Ex: Digite um número: 6.127 O número 6.127 tem a parte Inteira 6."
   ]
  },
  {
   "cell_type": "code",
   "execution_count": null,
   "metadata": {},
   "outputs": [],
   "source": []
  },
  {
   "cell_type": "markdown",
   "metadata": {},
   "source": [
    "17.Faça um programa que leia o comprimento do cateto oposto e do cateto adjacente de um triângulo, calcule o mostre o comprimento da hipotenusa. "
   ]
  },
  {
   "cell_type": "markdown",
   "metadata": {},
   "source": [
    "18.Faça um programa que leia um ângulo qualquer a mostre na tela o valor do seno, cosseno e tangente desse ângulo."
   ]
  },
  {
   "cell_type": "markdown",
   "metadata": {},
   "source": [
    "19.Um professor quer sortear um dos seus quatro alunos para apagar o quadro. Faça um programa que ajude ele, lendo o nome deles e escrevendo o nome do escolhido. O mesmo professor do desafio anterior quer sortear a ordem de apresentação de trabalhos dos alunos."
   ]
  },
  {
   "cell_type": "markdown",
   "metadata": {},
   "source": [
    "20.Faça um programa que leia o nome dos quatro alunos e mostre a ordem sorteada."
   ]
  },
  {
   "cell_type": "markdown",
   "metadata": {},
   "source": [
    "21.  Faça um programa em python que abra e reproduza o áudio de um arquivo MP3."
   ]
  },
  {
   "cell_type": "markdown",
   "metadata": {},
   "source": [
    "22.Crie um programa que leia o nome completo de uma pessoa e mostre: O nome com todas as letras maiúsculas e minúsculas. Quantas letras ao todo(sem considerar espaços) Quantas letras tem o primeiro nome."
   ]
  },
  {
   "cell_type": "markdown",
   "metadata": {},
   "source": [
    "23.Faça um programa que leia um número de 0 a 9999 e mostre na tela cada um dos dígitos separados. Ex: Digite um número: 1834 unidade: \n",
    "4 dezena: 3 centena: 8 milhar: 1"
   ]
  },
  {
   "cell_type": "markdown",
   "metadata": {},
   "source": [
    "24.  Crie um programa que leia o nome de uma cidade e diga se ela começa ou não com o nome ‘SANTO’"
   ]
  },
  {
   "cell_type": "markdown",
   "metadata": {},
   "source": [
    "25.  Crie um programa que leia o nome de uma pessoa e diga se ela tem ‘SILVA’ no nome."
   ]
  },
  {
   "cell_type": "markdown",
   "metadata": {},
   "source": [
    "26.Faça   um   programa   que   leia   uma   frase   pelo   teclado   e   mostre:   Quantas   vezes aparece a letra ‘A’ Em que posição ela aparece a primeira vez Em que posição ela aparece a última vez"
   ]
  },
  {
   "cell_type": "markdown",
   "metadata": {},
   "source": [
    "27.   Faça um programa que leia o nome completo de uma pessoa, mostrando em seguida o primeiro e o último nome separadamente. Ex: Ana Maria de Souza primeiro = Ana último = Souza"
   ]
  },
  {
   "cell_type": "markdown",
   "metadata": {},
   "source": [
    "28.   Escreva um programa que faça o computador “pensar” em um número inteiro entre 0 e 5 e peça para o usuário tentar descobrir qual foi o número escolhido pelo computador. O programa deverá escrever na tela se o usuário venceu ou perdeu."
   ]
  },
  {
   "cell_type": "markdown",
   "metadata": {},
   "source": [
    "29.  Escreva um programa que leia a velocidade de uma carro. Se ele ultrapassar 80 km/h, mostre uma mensagem dizendo que ele foi multado. A multa vai custar R$ 7,00 por cada Km acima do limite."
   ]
  },
  {
   "cell_type": "markdown",
   "metadata": {},
   "source": [
    "30.Crie um programa que leia um número inteiro e mostre na tela se ele é par ou ímpar. "
   ]
  },
  {
   "cell_type": "markdown",
   "metadata": {},
   "source": [
    "31.   Desenvolva   um   programa   que   pergunte   a   distância   de   uma   viagem   em   km. Calcule o preço da passagem, cobrando R$ 0,50 por km para viagens de até 200km e R$ 0,45 para viagens mais longas. "
   ]
  },
  {
   "cell_type": "markdown",
   "metadata": {},
   "source": [
    "32.Faça um programa que leia um ano qualquer e mostre se ele é bissexto"
   ]
  },
  {
   "cell_type": "markdown",
   "metadata": {},
   "source": [
    "33.Faça um programa que leia três números e mostre qual é o maior e qual é o menor."
   ]
  },
  {
   "cell_type": "markdown",
   "metadata": {},
   "source": [
    "34.Escreva um programa que pergunte o salário de um funcionário e calcule o valor do seu aumento. Para salários superiores a R$ 1.250,00, calcule um aumento de 10%. Para os inferiores ou iguais, o aumento é de 15%."
   ]
  },
  {
   "cell_type": "markdown",
   "metadata": {},
   "source": [
    "35.Desenvolva um programa que leia o comprimento de três retas e diga ao usuário se elas podem ou não formar um triângulo."
   ]
  }
 ],
 "metadata": {
  "kernelspec": {
   "display_name": "Python 3",
   "language": "python",
   "name": "python3"
  },
  "language_info": {
   "codemirror_mode": {
    "name": "ipython",
    "version": 3
   },
   "file_extension": ".py",
   "mimetype": "text/x-python",
   "name": "python",
   "nbconvert_exporter": "python",
   "pygments_lexer": "ipython3",
   "version": "3.10.11"
  }
 },
 "nbformat": 4,
 "nbformat_minor": 2
}
