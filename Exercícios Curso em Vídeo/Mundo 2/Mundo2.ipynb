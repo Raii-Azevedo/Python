{
 "cells": [
  {
   "cell_type": "markdown",
   "metadata": {},
   "source": [
    "EX 036 – Escreva um programa para aprovar um empréstimo bancário para uma casa. O programa vai perguntar o valor da casa, o salário do comprador e em quantos anos ele vai pagar.\n",
    "Calcule o valor da prestação mensal, sabendo que ela não pode exceder 30% do salário ou então o empréstimo será negado."
   ]
  },
  {
   "cell_type": "code",
   "execution_count": null,
   "metadata": {},
   "outputs": [],
   "source": [
    "print('-- BANCO --')\n",
    "casa = float(input('Digite o valor da casa R$: '))\n",
    "parcela = int(input('Digite em quantas x deseja parcelar: '))\n",
    "salario = float(input('Digite seu salário R$: '))\n",
    "\n",
    "parc = casa / parcela\n",
    "aprov =  \n"
   ]
  },
  {
   "cell_type": "markdown",
   "metadata": {},
   "source": [
    "EX 037 – (Converter bases) Escreva um programa que leia um número inteiro qualquer e peça para o usuário escolher qual será a base de conversão.\n",
    "    1- binário\n",
    "    2- octal\n",
    "    3- hexadecimal."
   ]
  },
  {
   "cell_type": "markdown",
   "metadata": {},
   "source": [
    "EX 038 – Escreva um programa que leia dois números inteiros e os compare mostrando na tela a seguinte mensagem:\n",
    "    - O primeiro valor é maior.\n",
    "    - O segundo valor é maior.\n",
    "    - Não existe valor maior, os dois são iguais."
   ]
  },
  {
   "cell_type": "markdown",
   "metadata": {},
   "source": [
    "EX 039 – Faça um programa que leia o ano de nascimento de um jovem e informe, de acordo com sua idade:\n",
    "    - Se ele ainda vai se alistar.\n",
    "    - Se é hora de se alistar.\n",
    "    - Se já passou da hora de se alistar.\n",
    "O programa deve informar quanto tempo falta/passou para o prazo de alistamento."
   ]
  },
  {
   "cell_type": "markdown",
   "metadata": {},
   "source": [
    "EX 040 – Crie um programa que leia duas notas de um aluno e calcule sua média, mostrando uma mensagem no final, de acordo com a média atingida:\n",
    "    - Média abaixo de 5,0 (REPROVADO)\n",
    "    - Média entre 5,0 e 6,9 (RECUPERAÇÃO)\n",
    "    - Média 7,0> (APROVADO)"
   ]
  },
  {
   "cell_type": "markdown",
   "metadata": {},
   "source": [
    "EX 041 – A Confederação nacional de natação precisa de um programa que leia o ano de nascimento de um atleta e mostre sua categoria de acordo com a idade:\n",
    "    - Até 9 anos: MIRIM\n",
    "    - Até 14 anos: INFANTIL\n",
    "    - Até 19 anos: JUNIOR\n",
    "    - Até 20 anos: SÊNIOR\n",
    "    - Acima: MASTER."
   ]
  },
  {
   "cell_type": "markdown",
   "metadata": {},
   "source": [
    "EX 042 – Refaça o EX 035 dos triângulos, acrescentando o recurso de mostrar que tipo de triângulo será formado.\n",
    "    - Equilátero: Todos os lados iguais.\n",
    "    - Isósceles: Dois lados iguais.\n",
    "    - Escaleno: Todos os lados diferentes."
   ]
  },
  {
   "cell_type": "markdown",
   "metadata": {},
   "source": [
    "EX 043 – Desenvolva uma lógica que leia o peso e altura de uma pessoa, calcule o seu IMC e mostre seus status, de acordo com a tabela abaixo:\n",
    "    - Abaixo de 18,5 > Abaixo do peso.\n",
    "    - Entre 18,5 e 25 > Peso ideal.\n",
    "    - 25 até 30 > Sobrepeso.\n",
    "    - 30 a 40 > Obesidade.\n",
    "    - Acima de 40 > Obesidade mórbida."
   ]
  },
  {
   "cell_type": "markdown",
   "metadata": {},
   "source": [
    "EX 044 – Elabore um programa que calcule um valor a ser pago pelo produto, considerando seu preço normal e condição de pagamento:\n",
    "    - A vista dinheiro/cheque: 10% de desconto.\n",
    "    - A vista no cartão: 5% de desconto.\n",
    "    - Em até 2x no cartão: preço normal.\n",
    "    - 3x ou mais no cartão: 20% de juros."
   ]
  },
  {
   "cell_type": "markdown",
   "metadata": {},
   "source": [
    "\n",
    "EX 045 – Crie um programa que faça o computador jogar Jokenpô com você."
   ]
  },
  {
   "cell_type": "markdown",
   "metadata": {},
   "source": [
    "EX 046 – Faça um programa que mostre na tela um contagem regressiva de fogos de artifício, indo de 10 até 0, com uma pausa de 1 segundo entre eles."
   ]
  },
  {
   "cell_type": "markdown",
   "metadata": {},
   "source": [
    "EX 047 – Crie um programa que mostre na tela todos os números pares que estão no intervalo de 1 e 50."
   ]
  },
  {
   "cell_type": "markdown",
   "metadata": {},
   "source": [
    "EX 048 – Faça um programa que calcule a soma entre todos os números ímpares que são múltiplos de 3 que se encontram no intervalo de 1 e 500."
   ]
  },
  {
   "cell_type": "markdown",
   "metadata": {},
   "source": [
    "EX 049 – Refaça o desafio 009, mostrando a tabuada de um número que o usuário escolher, só que agora utilizando o laço for."
   ]
  },
  {
   "cell_type": "markdown",
   "metadata": {},
   "source": [
    "EX 050 – Desenvolva um programa que leia 6 números inteiros e mostre apenas daqueles que forem pares se forem ímpar, desconsidere-o."
   ]
  },
  {
   "cell_type": "markdown",
   "metadata": {},
   "source": [
    "EX 051 – Desenvolva um programa que leia um número inteiro e a razão de uma progressão aritmética. No final, mostre os 10 primeiros termos dessa progressão."
   ]
  },
  {
   "cell_type": "markdown",
   "metadata": {},
   "source": [
    "EX 052 – Faça um programa que leia um número inteiro e diga se ele é um número primo."
   ]
  },
  {
   "cell_type": "markdown",
   "metadata": {},
   "source": [
    "EX 053 – Faça um programa que leia uma frase qualquer e diga se ela é uma palíndromo. EX: Após a Sopa – A Sacada da Casa – A Torre da Derrota – Anotaram a data da maratona."
   ]
  },
  {
   "cell_type": "markdown",
   "metadata": {},
   "source": [
    "EX 054 – Crie um programa que leia o ano de nascimento de sete pessoas. No final, mostre quantas pessoas ainda não atingiram a maioridade e quantas já são maiores. (Considerar maioridade com 21)."
   ]
  },
  {
   "cell_type": "markdown",
   "metadata": {},
   "source": [
    "EX 055 – Faça um programa que leia o peso de 5 pessoas. E no final, mostre qual é o maior e o menor peso delas."
   ]
  },
  {
   "cell_type": "markdown",
   "metadata": {},
   "source": [
    "EX 056 – Desenvolva um programa que leia nome, idade e sexo de 4 pessoas. No final do programa, mostre:\n",
    "    - A média de idade do grupo.\n",
    "    - Qual é o nome do homem mais velho.\n",
    "    - Quantas mulheres tem menos de 20 anos."
   ]
  },
  {
   "cell_type": "markdown",
   "metadata": {},
   "source": [
    "EX 057 – Faça o programa que leia o sexo de uma pessoa, mas só aceite M ou F. Caso esteja errado, peça a digitação novamente até ter o valor correto."
   ]
  },
  {
   "cell_type": "markdown",
   "metadata": {},
   "source": [
    "Ex 058 – Melhore o jogo do EX 028 onde o computador vai “pensar” em um número entre 0 e 10. Só que agora o jogador vai tentar adivinhar até acertar, mostrando no final quantos palpites foram necessários para vencer."
   ]
  },
  {
   "cell_type": "markdown",
   "metadata": {},
   "source": [
    "Ex 059 – Crie um programa que leia dois valores e mostre um menu na tela:\n",
    "    [1] Somar\n",
    "    [2] Multiplicar\n",
    "    [3] Maior\n",
    "    [4] Novos números\n",
    "    [5] sair do programa.\n",
    "Seu programa deverá realizar a operação solicitada em cada caso."
   ]
  },
  {
   "cell_type": "markdown",
   "metadata": {},
   "source": [
    "EX 060 – Faça um programa que leia um número qualquer e mostre o seu fatorial. Ex: 5! = 5x4x3x2x1 = 120"
   ]
  },
  {
   "cell_type": "markdown",
   "metadata": {},
   "source": [
    "EX 061 – Refaça o EX 051, lendo o primeiro termo e a razão de uma PA, mostrando os 10 primeiros termos da progressão utilizando a estrutura while."
   ]
  },
  {
   "cell_type": "markdown",
   "metadata": {},
   "source": [
    "EX 062 – Melhor o EX 061, perguntando para o usuário se ele quer mostrar mais alguns termos. O programa encerra quando ele disser que quer mostrar 0 termos."
   ]
  },
  {
   "cell_type": "markdown",
   "metadata": {},
   "source": [
    "EX 063 – Escreva um programa que leia um número n inteiro qualquer e mostre na tela n primeiros elementos de uma Sequencia de Fibonacci.\n",
    "    Ex: 0 – 1 – 1 – 2 – 3 – 5 – 8..."
   ]
  },
  {
   "cell_type": "markdown",
   "metadata": {},
   "source": [
    "EX 064 – Crie um programa que leia vários números inteiros pelo teclado. O programa só vai parar quando o usuário digitar o valor 999, que é a condição de parada. No final, mostre quantos números foram digitados e qual foi a soma entre eles (Desconsiderando o Flag)."
   ]
  },
  {
   "cell_type": "markdown",
   "metadata": {},
   "source": [
    "EX 065 – Crie um programa que leia vários números inteiros pelo teclado. No final da execução, mostre a média entre todos os valores e qual foi o maior e o menor valor lido. O programa deve perguntar ao usuário se ele quer ou não continuar a digitar valores:"
   ]
  },
  {
   "cell_type": "markdown",
   "metadata": {},
   "source": [
    "Ex 066 – Crie um programa que leia vários números inteiros pelo teclado. O programa só vai parar quando o usuário digitar o valor 999, que é a condição de parada. No final, mostre quantos números foram digitados e qual foi a soma entre eles (desconsiderando o flag)."
   ]
  },
  {
   "cell_type": "markdown",
   "metadata": {},
   "source": [
    "Ex 067 - Faça um programa que mostre a tabuada de vários números, um de cada vez, para cada valor digitado pelo usuário. O programa será interrompido quando o número digitado for negativo."
   ]
  },
  {
   "cell_type": "markdown",
   "metadata": {},
   "source": [
    "Ex 068 – Faça um programa que jogue par ou impar com o computador. O jogo só será interrompido quando o jogador perder, mostrando o total de vitórias consecutivas que ele conquistou no final do jogo."
   ]
  },
  {
   "cell_type": "markdown",
   "metadata": {},
   "source": [
    "EX 069 – Crie um programa que leia a idade e sexo de várias pessoas. A cada pessoa cadastrada, o programa deverá perguntar se o usuário quer ou não continuar. No final mostre:\n",
    "    a) Quantas pessoas tem mais de 18 anos.\n",
    "    b) Quantos homens foram cadastrados.\n",
    "    c) Quantas mulheres tem menos de 20 anos."
   ]
  },
  {
   "cell_type": "markdown",
   "metadata": {},
   "source": [
    "Ex 070 – Crie um programa que leia o nome e o preço de vários produtos. O programa deverá perguntar se o usuário vai continuar. No final mostre:\n",
    "    a) Qual o total gasto na compra.\n",
    "    b) Quantos produtos custam mais de R$1000.\n",
    "    c) Qual é o nome do produto mais barato."
   ]
  },
  {
   "cell_type": "markdown",
   "metadata": {},
   "source": [
    "EX 071 – Crie um programa que simule o funcionamento de um caixa eletrônico. No Inicio, pergunte o usuário qual será o valor a ser sacado (número inteiro) e o programa vai informar quantas cédulas de cada valor serão entregues.\n",
    "    OBS: Considere que o caixa possui cédulas de R$50, R$20, R$,10 e R$1."
   ]
  }
 ],
 "metadata": {
  "language_info": {
   "name": "python"
  }
 },
 "nbformat": 4,
 "nbformat_minor": 2
}
