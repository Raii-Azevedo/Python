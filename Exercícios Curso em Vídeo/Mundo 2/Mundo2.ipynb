{
 "cells": [
  {
   "cell_type": "markdown",
   "metadata": {},
   "source": [
    "EX 036 – Escreva um programa para aprovar um empréstimo bancário para uma casa. O programa vai perguntar o valor da casa, o salário do comprador e em quantos anos ele vai pagar.\n",
    "Calcule o valor da prestação mensal, sabendo que ela não pode exceder 30% do salário ou então o empréstimo será negado."
   ]
  },
  {
   "cell_type": "code",
   "execution_count": null,
   "metadata": {},
   "outputs": [],
   "source": [
    "print('-- BANCO --')\n",
    "casa = float(input('Digite o valor da casa R$: '))\n",
    "parcela = int(input('Digite em quantas vezes deseja parcelar: '))\n",
    "salario = float(input('Digite seu salário R$: '))\n",
    "\n",
    "parc = casa / parcela\n",
    "if parc > (30 / 100) * salario:\n",
    "    mensagem = f'Você dividiu sua casa no valor de R${casa:.2f}\\n' \\\n",
    "               f'Em {parcela}x de R${parc:.2f}, isso está acima de 30% do seu salário.\\n' \\\n",
    "               'Empréstimo NEGADO'\n",
    "else:\n",
    "    mensagem = f'Você dividiu sua casa no valor de R${casa:.2f}\\n' \\\n",
    "               f'Em {parcela}x de R${parc:.2f}, isso está abaixo de 30% do seu salário.\\n' \\\n",
    "               'Empréstimo CONCEDIDO'\n",
    "\n",
    "print(mensagem)"
   ]
  },
  {
   "cell_type": "markdown",
   "metadata": {},
   "source": [
    "EX 037 – (Converter bases) Escreva um programa que leia um número inteiro qualquer e peça para o usuário escolher qual será a base de conversão.\n",
    "    1- binário\n",
    "    2- octal\n",
    "    3- hexadecimal."
   ]
  },
  {
   "cell_type": "code",
   "execution_count": null,
   "metadata": {},
   "outputs": [],
   "source": [
    "def decimal_to_hexadecimal(num):\n",
    "    hexadecimal_list = []\n",
    "    while num > 0:\n",
    "        remainder = num % 16\n",
    "        if remainder < 10:\n",
    "            hexadecimal_list.append(str(remainder))\n",
    "        else:\n",
    "            # Mapear valores maiores que 9 para letras A a F\n",
    "            hexadecimal_list.append(chr(ord('A') + remainder - 10))\n",
    "        num = num // 16\n",
    "\n",
    "    hexadecimal_list.reverse()\n",
    "    return hexadecimal_list\n",
    "\n",
    "def decimal_to_octal(num):\n",
    "    octal_list = []\n",
    "    while num > 0:\n",
    "        remainder = num % 8\n",
    "        octal_list.append(remainder)\n",
    "        num = num // 8\n",
    "\n",
    "    octal_list.reverse()\n",
    "    return octal_list\n",
    "\n",
    "def decimal_to_binary(num):\n",
    "\n",
    "    binary_list = []\n",
    "    while num > 0:\n",
    "        remainder = num % 2\n",
    "        binary_list.append(remainder)\n",
    "        num = num // 2\n",
    "    \n",
    "    binary_list.reverse()\n",
    "    return binary_list\n",
    "\n",
    "num = int(input('Digite um número decimal: '))\n",
    "\n",
    "R = [1, 2, 3]\n",
    "\n",
    "n = int(input('''Escolha uma opção\n",
    "[1] Binário\n",
    "[2] Octal\n",
    "[3] Hexadecimal\n",
    ":  '''))\n",
    "\n",
    "while n not in R:\n",
    "    n = int(input('''Escolha uma opção\n",
    "            [1] Binário\n",
    "            [2] Octal\n",
    "            [3] Hexadecimal\n",
    "            :  '''))\n",
    "\n",
    "if n == 1:\n",
    "    binary_result = decimal_to_binary(num)\n",
    "    print(f'O número {num} em binário é: {\"\".join(map(str, binary_result))}')\n",
    "elif n == 2:\n",
    "    octal = decimal_to_octal(num)\n",
    "    print(f'O número {num} em octal é: {\"\".join(map(str, octal))}')\n",
    "elif n == 3:\n",
    "    hexadecimal = decimal_to_hexadecimal(num)\n",
    "    print(f'O número {num} em hexadecimal é: {\"\".join(hexadecimal)}')\n"
   ]
  },
  {
   "cell_type": "markdown",
   "metadata": {},
   "source": [
    "EX 038 – Escreva um programa que leia dois números inteiros e os compare mostrando na tela a seguinte mensagem:\n",
    "    - O primeiro valor é maior.\n",
    "    - O segundo valor é maior.\n",
    "    - Não existe valor maior, os dois são iguais."
   ]
  },
  {
   "cell_type": "code",
   "execution_count": null,
   "metadata": {},
   "outputs": [],
   "source": [
    "n1 = int(input('Digite o 1° número: '))\n",
    "n2 = int(input('Digite o 2° número: '))\n",
    "\n",
    "if n1 > n2:\n",
    "    print(f'{n1} é maior que {n2}')\n",
    "elif n2 > n1:  \n",
    "    print(f'{n2} é maior que {n1}')\n",
    "else:\n",
    "    print(f'Não existe um maior, {n1} e {n2} são iguais')"
   ]
  },
  {
   "cell_type": "markdown",
   "metadata": {},
   "source": [
    "EX 039 – Faça um programa que leia o ano de nascimento de um jovem e informe, de acordo com sua idade:\n",
    "    - Se ele ainda vai se alistar.\n",
    "    - Se é hora de se alistar.\n",
    "    - Se já passou da hora de se alistar.\n",
    "O programa deve informar quanto tempo falta/passou para o prazo de alistamento."
   ]
  },
  {
   "cell_type": "code",
   "execution_count": null,
   "metadata": {},
   "outputs": [],
   "source": [
    "import datetime\n",
    "\n",
    "hoje = datetime.date.today()\n",
    "\n",
    "dia = int(input('Digite o Dia que nasceu: '))\n",
    "mes = int(input('Digite o n° do mês que nasceu: '))\n",
    "ano = int(input('Digite o ano que nasceu: '))\n",
    "data_nascimento = datetime.date(ano, mes, dia)\n",
    "idade = hoje.year - data_nascimento.year - ((hoje.month, hoje.day) < (data_nascimento.month, dia))\n",
    "\n",
    "if idade == 18:\n",
    "    print(f'Você já tem {idade} anos. É o ano de se alistar.')\n",
    "elif idade > 18:\n",
    "    anos_faltando = idade - 18\n",
    "    print(f'Você tem {idade} anos. Já passou {anos_faltando} anos do prazo para se alistar.')\n",
    "else:\n",
    "    anos_faltando = 18 - idade\n",
    "    print(f'Você tem {idade} anos. Faltam {anos_faltando} anos para se alistar.')"
   ]
  },
  {
   "cell_type": "markdown",
   "metadata": {},
   "source": [
    "EX 040 – Crie um programa que leia duas notas de um aluno e calcule sua média, mostrando uma mensagem no final, de acordo com a média atingida:\n",
    "    - Média abaixo de 5,0 (REPROVADO)\n",
    "    - Média entre 5,0 e 6,9 (RECUPERAÇÃO)\n",
    "    - Média 7,0> (APROVADO)"
   ]
  },
  {
   "cell_type": "code",
   "execution_count": null,
   "metadata": {},
   "outputs": [],
   "source": [
    "n1 = float(input('Digite a 1° nota: '))\n",
    "n2 = float(input('Digite a 2° nota: '))\n",
    "\n",
    "media = (n1 + n2)/2\n",
    "\n",
    "if media >= 5 and media <= 6.9:\n",
    "    print(f'Sua média é {media}. Porém é menor que 7. Portanto está em RECUPERAÇÃO')   \n",
    "elif media >= 7:\n",
    "    print(f'Sua média é {media}. Acima de 7. Portanto está APROVADO')\n",
    "else:\n",
    "    print(f'Sua média é {media}. Abaixo de 5. Portanto está REPROVADO')"
   ]
  },
  {
   "cell_type": "markdown",
   "metadata": {},
   "source": [
    "EX 041 – A Confederação nacional de natação precisa de um programa que leia o ano de nascimento de um atleta e mostre sua categoria de acordo com a idade:\n",
    "    - Até 9 anos: MIRIM\n",
    "    - Até 14 anos: INFANTIL\n",
    "    - Até 19 anos: JUNIOR\n",
    "    - Até 20 anos: SÊNIOR\n",
    "    - Acima: MASTER."
   ]
  },
  {
   "cell_type": "code",
   "execution_count": null,
   "metadata": {},
   "outputs": [],
   "source": [
    "import datetime\n",
    "\n",
    "hoje = datetime.date.today()\n",
    "\n",
    "dia = int(input('Digite o Dia que nasceu: '))\n",
    "mes = int(input('Digite o n° do mês que nasceu: '))\n",
    "ano = int(input('Digite o ano que nasceu: '))\n",
    "data_nascimento = datetime.date(ano, mes, dia)\n",
    "idade = hoje.year - data_nascimento.year - ((hoje.month, hoje.day) < (data_nascimento.month, dia))\n",
    "\n",
    "if idade <= 9:\n",
    "    print(f'Idade {idade} anos → Categoria: MIRIM')\n",
    "elif idade >=9 and idade <=14:\n",
    "    print(f'Idade {idade} anos → Categoria: INFANTIL')\n",
    "elif idade >= 15 and idade <= 19:\n",
    "    print(f'Idade {idade} anos → Categoria: JÚNIOR')\n",
    "else:\n",
    "    print(f'Idade {idade} anos → Categoria: ADULTO')"
   ]
  },
  {
   "cell_type": "markdown",
   "metadata": {},
   "source": [
    "EX 042 – Refaça o EX 035 dos triângulos, acrescentando o recurso de mostrar que tipo de triângulo será formado.\n",
    "    - Equilátero: Todos os lados iguais.\n",
    "    - Isósceles: Dois lados iguais.\n",
    "    - Escaleno: Todos os lados diferentes."
   ]
  },
  {
   "cell_type": "code",
   "execution_count": null,
   "metadata": {},
   "outputs": [],
   "source": [
    "a = float(input(\"Digite o comprimento da primeira reta: \"))\n",
    "b = float(input(\"Digite o comprimento da segunda reta: \"))\n",
    "c = float(input(\"Digite o comprimento da terceira reta: \"))\n",
    "\n",
    "# Verifica se os comprimentos podem formar um triângulo\n",
    "if a < b + c and b < a + c and c < a + b:\n",
    "    print(\"Os comprimentos podem formar um triângulo.\")\n",
    "else:\n",
    "    print(\"Os comprimentos não podem formar um triângulo.\")\n",
    "\n",
    "# Tipos de Triângulos\n",
    "\n",
    "if a == b and a == c and b == c:\n",
    "    print('Irá formar um triângulo EQUILÁTERO')\n",
    "elif (a == b and a != c) or (a == c and a != b) or (b == c and b != a) or (c == a and c != b):\n",
    "    print('Irá formar um triângulo ISÓSCELES')\n",
    "else:\n",
    "    print('Irá formar um triangulo ESCALENO')"
   ]
  },
  {
   "cell_type": "markdown",
   "metadata": {},
   "source": [
    "EX 043 – Desenvolva uma lógica que leia o peso e altura de uma pessoa, calcule o seu IMC e mostre seus status, de acordo com a tabela abaixo:\n",
    "    - Abaixo de 18,5 > Abaixo do peso.\n",
    "    - Entre 18,5 e 25 > Peso ideal.\n",
    "    - 25 até 30 > Sobrepeso.\n",
    "    - 30 a 40 > Obesidade.\n",
    "    - Acima de 40 > Obesidade mórbida."
   ]
  },
  {
   "cell_type": "code",
   "execution_count": null,
   "metadata": {},
   "outputs": [],
   "source": [
    "altura = float(input('Digite sua altura m: '))\n",
    "peso = float(input('Digite sue peso Kg: '))\n",
    "\n",
    "imc = peso / altura ** 2\n",
    "\n",
    "if imc <= 18.4:\n",
    "    print(f'Seu imc: {imc:.2f} → ABAIXO DO PESO')\n",
    "elif imc >= 18.5 and imc <= 25:\n",
    "    print(f'Seu imc: {imc:.2f} → PESO IDEAL')\n",
    "elif imc >= 25.1 and imc <= 30:\n",
    "    print(f'Seu imc: {imc:.2f} → SOBREPESO')\n",
    "elif imc >= 30.1 and imc <= 40:\n",
    "    print(f'Seu imc: {imc:.2f} → OBESIDADE')\n",
    "else:\n",
    "    print(f'Seu imc: {imc:.2f} → OBESIDADE MÓRBIDA')"
   ]
  },
  {
   "cell_type": "markdown",
   "metadata": {},
   "source": [
    "EX 044 – Elabore um programa que calcule um valor a ser pago pelo produto, considerando seu preço normal e condição de pagamento:\n",
    "    - A vista dinheiro/cheque: 10% de desconto.\n",
    "    - A vista no cartão: 5% de desconto.\n",
    "    - Em até 2x no cartão: preço normal.\n",
    "    - 3x ou mais no cartão: 20% de juros."
   ]
  },
  {
   "cell_type": "code",
   "execution_count": null,
   "metadata": {},
   "outputs": [],
   "source": [
    "menu = '''-- FORMA DE PAGAMENTO -- \n",
    "[1] A vista dinheiro / cheque\n",
    "[2] A vista (cartão)\n",
    "[3] Até 2x (cartão)\n",
    "[4] 3x ou mais (cartão)'''\n",
    "\n",
    "preco = float(input('Digite o valor do produto R$: '))\n",
    "\n",
    "op = int(input(f'{menu}\\n Digite sua opção: '))\n",
    "\n",
    "flag = [1, 2, 3, 4]\n",
    "\n",
    "while op not in flag:\n",
    "    op = int(input(f'{menu}\\n Digite sua opção: '))\n",
    "\n",
    "if op == 1:\n",
    "    new = preco - (preco * 10)/100\n",
    "    print(f'Com essa opção o valor do produto de R$ {preco:.2f} passa a custar R$ {new:.2f}')\n",
    "elif op == 2:\n",
    "    new = preco - (preco * 5)/100\n",
    "    print(f'Com essa opção o valor do produto de R$ {preco:.2f} passa a custar R$ {new:.2f}')\n",
    "elif op == 3:\n",
    "    new = preco - (preco * 10)/100\n",
    "    print(f'Com essa opção o valor do produto é de R$ {preco:.2f}')\n",
    "else:\n",
    "    new = preco + (preco * 20)/100\n",
    "    print(f'Com essa opção o valor do produto de R$ {preco:.2f} passa a custar R$ {new:.2f}')"
   ]
  },
  {
   "cell_type": "markdown",
   "metadata": {},
   "source": [
    "EX 045 – Crie um programa que faça o computador jogar Jokenpô com você."
   ]
  },
  {
   "cell_type": "code",
   "execution_count": null,
   "metadata": {},
   "outputs": [],
   "source": [
    "from random import randint\n",
    "from time import sleep\n",
    "menu = '''__ JO KEN PÔ __\\n\n",
    "Escolha um valor\n",
    "[1] Pedra\n",
    "[2] Papel\n",
    "[3] Tesoura'''\n",
    "\n",
    "com = randint(1,3)\n",
    "\n",
    "player = int(input(f'{menu}\\n Escolha uma opção: '))\n",
    "\n",
    "print(f'JO\\n{sleep(1)}KEN\\n{sleep(1)}PÔ\\n{sleep(1)}')\n",
    "\n",
    "if com == player:\n",
    "    print(f'Eu escolhi {com} e você {player}. É um EMPATE')\n",
    "elif com == 1 and player == 3 or com == 1 and player == 1 or com == 3 and player == 2:\n",
    "    print(f'Eu escolhi {com} e você {player}. Eu VENCI')\n",
    "else:\n",
    "    print(f'Eu escolhi {com} e você {player}. Você VENCEU')\n"
   ]
  },
  {
   "cell_type": "markdown",
   "metadata": {},
   "source": [
    "\n",
    "EX 046 – Faça um programa que mostre na tela um contagem regressiva de fogos de artifício, indo de 10 até 0, com uma pausa de 1 segundo entre eles."
   ]
  },
  {
   "cell_type": "code",
   "execution_count": null,
   "metadata": {},
   "outputs": [],
   "source": [
    "from time import sleep\n",
    "\n",
    "for c in range (10, -1, -1):\n",
    "    print(f'{c}')\n",
    "    sleep(1)"
   ]
  },
  {
   "cell_type": "markdown",
   "metadata": {},
   "source": [
    "EX 047 – Crie um programa que mostre na tela todos os números pares que estão no intervalo de 1 e 50."
   ]
  },
  {
   "cell_type": "code",
   "execution_count": null,
   "metadata": {},
   "outputs": [],
   "source": [
    "for c in range (1+1,51, 2):\n",
    "    print(c)\n",
    "    sleep(0.5)"
   ]
  },
  {
   "cell_type": "markdown",
   "metadata": {},
   "source": [
    "EX 048 – Faça um programa que calcule a soma entre todos os números ímpares que são múltiplos de 3 que se encontram no intervalo de 1 e 500."
   ]
  },
  {
   "cell_type": "code",
   "execution_count": null,
   "metadata": {},
   "outputs": [],
   "source": [
    "soma = 0\n",
    "\n",
    "for numero in range(1, 501):\n",
    "    if numero % 2 != 0 and numero % 3 == 0:\n",
    "        soma += numero\n",
    "        print(numero, end = ' ')\n",
    "\n",
    "print(f'\\nA soma dos números ímpares múltiplos de 3 no intervalo de 1 a 500 é: {soma}')"
   ]
  },
  {
   "cell_type": "markdown",
   "metadata": {},
   "source": [
    "EX 049 – Refaça o desafio 009, mostrando a tabuada de um número que o usuário escolher, só que agora utilizando o laço for.\n",
    "EX 09 → Faça um programa que leia um número Inteiro qualquer e mostre na tela a sua tabuada"
   ]
  },
  {
   "cell_type": "code",
   "execution_count": null,
   "metadata": {},
   "outputs": [],
   "source": [
    "n = int(input('Digite um número: '))\n",
    "\n",
    "for i in range(11):\n",
    "    print(f'{n} x {i} = {i*n}')"
   ]
  },
  {
   "cell_type": "markdown",
   "metadata": {},
   "source": [
    "EX 050 – Desenvolva um programa que leia 6 números inteiros e mostre apenas daqueles que forem pares se forem ímpar, desconsidere-o."
   ]
  },
  {
   "cell_type": "code",
   "execution_count": null,
   "metadata": {},
   "outputs": [],
   "source": [
    "for c in range (1, 7):\n",
    "    n = int(input(f'Digite o {c}º número: '))\n",
    "\n",
    "    if n % 2 == 0:\n",
    "        print(n)\n",
    "    else:\n",
    "        pass"
   ]
  },
  {
   "cell_type": "markdown",
   "metadata": {},
   "source": [
    "EX 051 – Desenvolva um programa que leia um número inteiro e a razão de uma progressão aritmética. No final, mostre os 10 primeiros termos dessa progressão."
   ]
  },
  {
   "cell_type": "code",
   "execution_count": null,
   "metadata": {},
   "outputs": [],
   "source": []
  },
  {
   "cell_type": "markdown",
   "metadata": {},
   "source": [
    "EX 052 – Faça um programa que leia um número inteiro e diga se ele é um número primo."
   ]
  },
  {
   "cell_type": "markdown",
   "metadata": {},
   "source": [
    "EX 053 – Faça um programa que leia uma frase qualquer e diga se ela é uma palíndromo. EX: Após a Sopa – A Sacada da Casa – A Torre da Derrota – Anotaram a data da maratona."
   ]
  },
  {
   "cell_type": "markdown",
   "metadata": {},
   "source": [
    "EX 054 – Crie um programa que leia o ano de nascimento de sete pessoas. No final, mostre quantas pessoas ainda não atingiram a maioridade e quantas já são maiores. (Considerar maioridade com 21)."
   ]
  },
  {
   "cell_type": "markdown",
   "metadata": {},
   "source": [
    "EX 055 – Faça um programa que leia o peso de 5 pessoas. E no final, mostre qual é o maior e o menor peso delas."
   ]
  },
  {
   "cell_type": "markdown",
   "metadata": {},
   "source": [
    "EX 056 – Desenvolva um programa que leia nome, idade e sexo de 4 pessoas. No final do programa, mostre:\n",
    "    - A média de idade do grupo.\n",
    "    - Qual é o nome do homem mais velho.\n",
    "    - Quantas mulheres tem menos de 20 anos."
   ]
  },
  {
   "cell_type": "markdown",
   "metadata": {},
   "source": [
    "EX 057 – Faça o programa que leia o sexo de uma pessoa, mas só aceite M ou F. Caso esteja errado, peça a digitação novamente até ter o valor correto."
   ]
  },
  {
   "cell_type": "markdown",
   "metadata": {},
   "source": [
    "Ex 058 – Melhore o jogo do EX 028 onde o computador vai “pensar” em um número entre 0 e 10. Só que agora o jogador vai tentar adivinhar até acertar, mostrando no final quantos palpites foram necessários para vencer."
   ]
  },
  {
   "cell_type": "markdown",
   "metadata": {},
   "source": [
    "Ex 059 – Crie um programa que leia dois valores e mostre um menu na tela:\n",
    "    [1] Somar\n",
    "    [2] Multiplicar\n",
    "    [3] Maior\n",
    "    [4] Novos números\n",
    "    [5] sair do programa.\n",
    "Seu programa deverá realizar a operação solicitada em cada caso."
   ]
  },
  {
   "cell_type": "markdown",
   "metadata": {},
   "source": [
    "EX 060 – Faça um programa que leia um número qualquer e mostre o seu fatorial. Ex: 5! = 5x4x3x2x1 = 120"
   ]
  },
  {
   "cell_type": "markdown",
   "metadata": {},
   "source": [
    "EX 061 – Refaça o EX 051, lendo o primeiro termo e a razão de uma PA, mostrando os 10 primeiros termos da progressão utilizando a estrutura while."
   ]
  },
  {
   "cell_type": "markdown",
   "metadata": {},
   "source": [
    "EX 062 – Melhor o EX 061, perguntando para o usuário se ele quer mostrar mais alguns termos. O programa encerra quando ele disser que quer mostrar 0 termos."
   ]
  },
  {
   "cell_type": "markdown",
   "metadata": {},
   "source": [
    "EX 063 – Escreva um programa que leia um número n inteiro qualquer e mostre na tela n primeiros elementos de uma Sequencia de Fibonacci.\n",
    "    Ex: 0 – 1 – 1 – 2 – 3 – 5 – 8..."
   ]
  },
  {
   "cell_type": "markdown",
   "metadata": {},
   "source": [
    "EX 064 – Crie um programa que leia vários números inteiros pelo teclado. O programa só vai parar quando o usuário digitar o valor 999, que é a condição de parada. No final, mostre quantos números foram digitados e qual foi a soma entre eles (Desconsiderando o Flag)."
   ]
  },
  {
   "cell_type": "markdown",
   "metadata": {},
   "source": [
    "EX 065 – Crie um programa que leia vários números inteiros pelo teclado. No final da execução, mostre a média entre todos os valores e qual foi o maior e o menor valor lido. O programa deve perguntar ao usuário se ele quer ou não continuar a digitar valores:"
   ]
  },
  {
   "cell_type": "markdown",
   "metadata": {},
   "source": [
    "Ex 066 – Crie um programa que leia vários números inteiros pelo teclado. O programa só vai parar quando o usuário digitar o valor 999, que é a condição de parada. No final, mostre quantos números foram digitados e qual foi a soma entre eles (desconsiderando o flag)."
   ]
  },
  {
   "cell_type": "markdown",
   "metadata": {},
   "source": [
    "Ex 067 - Faça um programa que mostre a tabuada de vários números, um de cada vez, para cada valor digitado pelo usuário. O programa será interrompido quando o número digitado for negativo."
   ]
  },
  {
   "cell_type": "markdown",
   "metadata": {},
   "source": [
    "Ex 068 – Faça um programa que jogue par ou impar com o computador. O jogo só será interrompido quando o jogador perder, mostrando o total de vitórias consecutivas que ele conquistou no final do jogo."
   ]
  },
  {
   "cell_type": "markdown",
   "metadata": {},
   "source": [
    "EX 069 – Crie um programa que leia a idade e sexo de várias pessoas. A cada pessoa cadastrada, o programa deverá perguntar se o usuário quer ou não continuar. No final mostre:\n",
    "    a) Quantas pessoas tem mais de 18 anos.\n",
    "    b) Quantos homens foram cadastrados.\n",
    "    c) Quantas mulheres tem menos de 20 anos."
   ]
  },
  {
   "cell_type": "markdown",
   "metadata": {},
   "source": [
    "Ex 070 – Crie um programa que leia o nome e o preço de vários produtos. O programa deverá perguntar se o usuário vai continuar. No final mostre:\n",
    "    a) Qual o total gasto na compra.\n",
    "    b) Quantos produtos custam mais de R$1000.\n",
    "    c) Qual é o nome do produto mais barato."
   ]
  },
  {
   "cell_type": "markdown",
   "metadata": {},
   "source": [
    "EX 071 – Crie um programa que simule o funcionamento de um caixa eletrônico. No Inicio, pergunte o usuário qual será o valor a ser sacado (número inteiro) e o programa vai informar quantas cédulas de cada valor serão entregues.\n",
    "    OBS: Considere que o caixa possui cédulas de R$50, R$20, R$,10 e R$1."
   ]
  }
 ],
 "metadata": {
  "kernelspec": {
   "display_name": "Python 3",
   "language": "python",
   "name": "python3"
  },
  "language_info": {
   "codemirror_mode": {
    "name": "ipython",
    "version": 3
   },
   "file_extension": ".py",
   "mimetype": "text/x-python",
   "name": "python",
   "nbconvert_exporter": "python",
   "pygments_lexer": "ipython3",
   "version": "3.10.11"
  }
 },
 "nbformat": 4,
 "nbformat_minor": 2
}
