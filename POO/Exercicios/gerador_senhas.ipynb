{
 "cells": [
  {
   "cell_type": "markdown",
   "id": "74b1c214-34d8-43a1-867b-1055887eca93",
   "metadata": {},
   "source": [
    "Escreva um programa que gere uma senha aleatória com um determinado comprimento. A senha deve conter uma mistura de letras, números e caracteres especiais. O comprimento da senha deve ser fornecido pelo usuário. Se o comprimento for menor que 4, imprima uma mensagem de erro e peça ao usuário para fornecer um novo comprimento.\n",
    "\n",
    "A senha deve ser aleatória, então cada vez que o usuário executar o programa, uma nova senha deve ser gerada. Obrigatoriamente, a senha deve conter pelo menos uma letra, um número e um caractere especial. A senha não pode conter espaços em branco.\n",
    "\n",
    "O programa deve conter uma função chamada `gerar_senha` que recebe o comprimento da senha como parâmetro e retorna a senha gerada. Se o comprimento for inválido, a função deve retornar None.\n",
    "\n",
    "Exemplo de saída:\n",
    "\n",
    "```\n",
    "Digite o comprimento da senha: 10\n",
    "8Zn$*2q9X\n",
    "```\n",
    "\n",
    "- Dica: use a biblioteca random e a função shuffle para embaralhar os caracteres da senha.\n",
    "- Dica: use a função choice, dessa mesma biblioteca, para escolher um caractere aleatório de uma string.\n",
    "- Dica: use a biblioteca string para obter uma lista de caracteres válidos para a senha."
   ]
  },
  {
   "cell_type": "code",
   "execution_count": 17,
   "id": "dfe935be",
   "metadata": {},
   "outputs": [
    {
     "name": "stdout",
     "output_type": "stream",
     "text": [
      "M5.89\n"
     ]
    }
   ],
   "source": [
    import random
import string

def gerar_senha(Q):
    gerador = [string.ascii_letters, string.digits, string.punctuation]
    senha = ""

    # Adiciona pelo menos um caractere de cada categoria
    for categoria in gerador:
        senha += random.choice(categoria)
        Q -= 1

    # Adiciona caracteres restantes aleatoriamente
    for i in range(Q):
        categoria_escolhida = random.choice(gerador)
        senha_escolhida = random.choice(categoria_escolhida)
        senha += senha_escolhida

    # Embaralha a senha para garantir aleatoriedade
    senha_embaralhada = ''.join(random.sample(senha, len(senha)))
    return senha_embaralhada

Q = int(input('Digite o comprimento da senha: '))

while Q <= 4:
    Q = int(input('A senha deve ter mais de 4 caracteres. Digite o comprimento da senha: '))

print(gerar_senha(Q))
   ]
  },
  {
   "cell_type": "markdown",
   "id": "e0bd7934",
   "metadata": {},
   "source": [
    "↑↑↑\n",
    "O código acima recebe a função gerar_senha.\n",
    "Que utiliza as bibliotecas Random e String. Para gerar uma senha aleatória de acordo com o range definido pelo usuário no input de Q.\n",
    "\n",
    "Parameters:\n",
    "senha\n",
    "    random.choice da lista gerador que recebe 3 ascii de string (Letras, Números e Pontuações)\n",
    "Returns\n",
    "----------\n",
    "senha = sequencia aleatória de caracteres de range(Q)."
   ]
  }
 ],
 "metadata": {
  "kernelspec": {
   "display_name": "Python 3 (ipykernel)",
   "language": "python",
   "name": "python3"
  },
  "language_info": {
   "codemirror_mode": {
    "name": "ipython",
    "version": 3
   },
   "file_extension": ".py",
   "mimetype": "text/x-python",
   "name": "python",
   "nbconvert_exporter": "python",
   "pygments_lexer": "ipython3",
   "version": "3.10.11"
  }
 },
 "nbformat": 4,
 "nbformat_minor": 5
}
