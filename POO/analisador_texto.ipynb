{
 "cells": [
  {
   "cell_type": "markdown",
   "id": "bc53556e-a539-4328-b873-fa5357312414",
   "metadata": {},
   "source": [
    "Crie um programa que analise um texto fornecido pelo usuário. O programa deve contar o número de palavras (independentemente se há repetição ou não), a quantidade de cada palavra e a quantidade de cada letra. Ignore maiúsculas e minúsculas ao contar letras (ou seja, transforme tudo para minúsculas). Faça o devido tratamento para pontuação e espaços ao contar palavras.\n",
    "\n",
    "O programa deve conter uma função chamada `analisar_texto` que recebe o texto como parâmetro e retorna a contagem de palavras, a frequência de palavras e a frequência de letras. A função deve ser devidamente documentada.\n",
    "\n",
    "Para o texto \"Olá mundo! Este é um teste. Olá novamente.\" o programa deve imprimir:\n",
    "\n",
    "```\n",
    "Contagem de palavras: 8\n",
    "Frequência de palavras: Counter({'Olá': 2, 'mundo': 1, 'Este': 1, 'é': 1, 'um': 1, 'teste': 1, 'novamente': 1})\n",
    "Frequência de letras: Counter({' ': 7, 'e': 6, 'o': 4, 't': 4, 'm': 3, 'n': 3, 'l': 2, 'á': 2, 'u': 2, 's': 2, 'd': 1, 'é': 1, 'v': 1, 'a': 1})\n",
    "```\n",
    "\n",
    "Dica: use o módulo `string` para obter uma lista de caracteres de pontuação. Exemplo:\n",
    "\n",
    "```python\n",
    "import string\n",
    "print(string.punctuation)\n",
    "```\n",
    "\n",
    "Dica: use o módulo `collections` para obter um contador de palavras e letras. Exemplo:\n",
    "\n",
    "```python\n",
    "from collections import Counter\n",
    "print(Counter(['a', 'b', 'a', 'c', 'b', 'a']))\n",
    "print(Counter('abacba'))\n",
    "``` "
   ]
  },
  {
   "cell_type": "code",
   "execution_count": 8,
   "id": "a8bbc88f",
   "metadata": {},
   "outputs": [
    {
     "name": "stdout",
     "output_type": "stream",
     "text": [
      "{97: 49, 101: 50, 105: 51, 111: 52, 117: 53}\n",
      "1bcd2fgh3jklmn4pqrst5vwxyz\n"
     ]
    }
   ],
   "source": [
    "import string\n",
    "from collections import Counter\n",
    "\n",
    "# COMO SUBSTITUIR CARACTERES \n",
    "vogais = 'aeiou'\n",
    "numeros = '12345'\n",
    "\n",
    "guia_troca = str.maketrans(vogais, numeros)\n",
    "print(guia_troca)\n",
    "\n",
    "letras_minusculas = string.ascii_lowercase\n",
    "print(letras_minusculas.translate(guia_troca))"
   ]
  },
  {
   "cell_type": "code",
   "execution_count": 6,
   "id": "8feda3f2-210f-4224-9b53-de7206c039ae",
   "metadata": {},
   "outputs": [
    {
     "name": "stdout",
     "output_type": "stream",
     "text": [
      "!\"#$%&'()*+,-./:;<=>?@[\\]^_`{|}~\n",
      "Contagem palavras: 8\n",
      "Frequencia palavras: Counter({'Olá': 2, 'mundo!': 1, 'Este': 1, 'é': 1, 'um': 1, 'teste.': 1, 'novamente.': 1})\n",
      "Freuência letras: Counter({' ': 7, 'e': 5, 't': 4, 'm': 3, 'n': 3, 'O': 2, 'l': 2, 'á': 2, 'u': 2, 'o': 2, 's': 2, '.': 2, 'd': 1, '!': 1, 'E': 1, 'é': 1, 'v': 1, 'a': 1})\n"
     ]
    }
   ],
   "source": [
    "import string\n",
    "from collections import Counter\n",
    "print(string.punctuation) # São todas as pontuações que existem para tratamento\n",
    "\n",
    "# SOLUÇÃO SIMPLES\n",
    "def analisar_texto(texto):\n",
    "    palavras = texto.split()\n",
    "    contagem_palavras = len(palavras)\n",
    "    frequencia_palavras = Counter(palavras)\n",
    "    frequencia_letras = Counter(texto)\n",
    "    \n",
    "    return contagem_palavras, frequencia_palavras, frequencia_letras\n",
    "\n",
    "texto = \"Olá mundo! Este é um teste. Olá novamente.\"\n",
    "\n",
    "contagem_palavras, frequencia_palavras, frequencia_letras = analisar_texto(texto)\n",
    "\n",
    "print(f'Contagem palavras: {contagem_palavras}')\n",
    "print(f'Frequencia palavras: {frequencia_palavras}')\n",
    "print(f'Freuência letras: {frequencia_letras}')\n"
   ]
  },
  {
   "cell_type": "markdown",
   "id": "e437958a",
   "metadata": {},
   "source": [
    "A Função abaixo analisa o texto fornecido e calcula a contagem de palavras e frequencia\n",
    "Utilizando as funções de Counter, Maketrans e Translate.\n",
    "\n",
    "Parameters:\n",
    "texto: str\n",
    "    Texto a ser analizado\n",
    "Returns\n",
    "---------------------\n",
    "tuple\n",
    "    contagem de palavras, frequência de palavras, frequência de letras\n",
    "\n",
    "↓↓↓↓↓"
   ]
  },
  {
   "cell_type": "code",
   "execution_count": 15,
   "id": "aae7d3b7",
   "metadata": {},
   "outputs": [
    {
     "name": "stdout",
     "output_type": "stream",
     "text": [
      "Contagem palavras: 8\n",
      "Frequencia palavras: Counter({'Olá': 2, 'mundo': 1, 'Este': 1, 'é': 1, 'um': 1, 'teste': 1, 'novamente': 1})\n",
      "Freuência letras: Counter({' ': 7, 'e': 6, 'o': 4, 't': 4, 'm': 3, 'n': 3, 'l': 2, 'á': 2, 'u': 2, 's': 2, 'd': 1, 'é': 1, 'v': 1, 'a': 1})\n"
     ]
    }
   ],
   "source": [
    "def analisar_texto(texto):\n",
    "    tratamento = str.maketrans(\"\", \"\", string.punctuation)\n",
    "    texto_tratado = texto.translate(tratamento)\n",
    "    palavras = texto_tratado.split()\n",
    "    contagem_palavras = len(palavras)\n",
    "    frequencia_palavras = Counter(palavras)\n",
    "    frequencia_letras = Counter(texto_tratado.lower())\n",
    "    \n",
    "    return contagem_palavras, frequencia_palavras, frequencia_letras\n",
    "\n",
    "texto = \"Olá mundo! Este é um teste. Olá novamente.\"\n",
    "\n",
    "contagem_palavras, frequencia_palavras, frequencia_letras = analisar_texto(texto)\n",
    "\n",
    "print(f'Contagem palavras: {contagem_palavras}')\n",
    "print(f'Frequencia palavras: {frequencia_palavras}')\n",
    "print(f'Freuência letras: {frequencia_letras}')\n"
   ]
  }
 ],
 "metadata": {
  "kernelspec": {
   "display_name": "Python 3 (ipykernel)",
   "language": "python",
   "name": "python3"
  },
  "language_info": {
   "codemirror_mode": {
    "name": "ipython",
    "version": 3
   },
   "file_extension": ".py",
   "mimetype": "text/x-python",
   "name": "python",
   "nbconvert_exporter": "python",
   "pygments_lexer": "ipython3",
   "version": "3.10.11"
  }
 },
 "nbformat": 4,
 "nbformat_minor": 5
}
